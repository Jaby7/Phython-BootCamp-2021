{
 "cells": [
  {
   "cell_type": "markdown",
   "metadata": {},
   "source": [
    "1. Round 4.5667 to the nearest hundreth using a build-in function, round()."
   ]
  },
  {
   "cell_type": "code",
   "execution_count": 12,
   "metadata": {},
   "outputs": [
    {
     "data": {
      "text/plain": [
       "4.57"
      ]
     },
     "execution_count": 12,
     "metadata": {},
     "output_type": "execute_result"
    }
   ],
   "source": [
    "round(4.5667,2 )"
   ]
  },
  {
   "cell_type": "markdown",
   "metadata": {},
   "source": [
    "2. Convert \"657\" to an integer data type"
   ]
  },
  {
   "cell_type": "code",
   "execution_count": 5,
   "metadata": {},
   "outputs": [
    {
     "name": "stdout",
     "output_type": "stream",
     "text": [
      "657\n"
     ]
    },
    {
     "data": {
      "text/plain": [
       "int"
      ]
     },
     "execution_count": 5,
     "metadata": {},
     "output_type": "execute_result"
    }
   ],
   "source": [
    " x = int ( \"657\" )\n",
    "print(x)\n",
    "type(x)"
   ]
  },
  {
   "cell_type": "markdown",
   "metadata": {},
   "source": [
    "3.\n",
    "Write a program to get two numbers from a user. Then, create a secret code where a code consists of 6 numbers and each number is randomly generated number between two numbers from a user. "
   ]
  },
  {
   "cell_type": "code",
   "execution_count": 20,
   "metadata": {},
   "outputs": [
    {
     "name": "stdout",
     "output_type": "stream",
     "text": [
      "Enter user1 nubmber here:25\n",
      "Eneter user2 number here:75\n",
      "The random number from the two users are 64 28 41 46 49 and 64.\n"
     ]
    }
   ],
   "source": [
    "user1=int(input(\"Enter user1 nubmber here:\"))\n",
    "user2=int(input(\"Eneter user2 number here:\"))\n",
    "import random as users\n",
    "number1=users.randint(user1,user2)\n",
    "number2=users.randint(user1,user2)\n",
    "number3=users.randint(user1,user2)\n",
    "number4=users.randint(user1,user2)\n",
    "number5=users.randint(user1,user2)\n",
    "number6=users.randint(user1,user2)\n",
    "print(f'The random number from the two users are {number1} {number2} {number3} {number4} {number5} and {number1}.')\n",
    "\n",
    "\n"
   ]
  },
  {
   "cell_type": "markdown",
   "metadata": {},
   "source": [
    "4.\n",
    "Write a program to center align below text where number of characters per line is 40:\n",
    "\n",
    "    Hickory, dickory, dock,\n",
    "    The mouse ran up the clock.\n",
    "    The clock struck one,\n",
    "    The mouse ran down,\n",
    "    Hickory, dickory, dock\n"
   ]
  },
  {
   "cell_type": "code",
   "execution_count": 26,
   "metadata": {},
   "outputs": [
    {
     "name": "stdout",
     "output_type": "stream",
     "text": [
      "        Hickory, dickory, dock,        \n",
      "      The mouse ran up the clock.      \n",
      "         The clock struck one,         \n",
      "          The mouse ran down,          \n",
      "        Hickory, dickory, dock,        \n"
     ]
    }
   ],
   "source": [
    "line1 = \"Hickory, dickory, dock,\"\n",
    "line2 = \"The mouse ran up the clock.\"\n",
    "line3 = \"The clock struck one,\"\n",
    "line4 = \"The mouse ran down,\"\n",
    "line5 = \"Hickory, dickory, dock\"\n",
    "max_char=40 \n",
    "align=' '\n",
    "line1=line1.strip()\n",
    "gap=max_char-len(line1)\n",
    "padding=align*int(gap/2)\n",
    "print(f'{padding}{line1}{padding}')\n",
    "\n",
    "line2=line2.strip()\n",
    "gap=max_char-len(line2)\n",
    "padding=align*int(gap/2)\n",
    "print(f'{padding}{line2}{padding}')\n",
    "\n",
    "line3=line3.strip()\n",
    "gap=max_char-len(line3)\n",
    "padding=align*int(gap/2)\n",
    "print(f'{padding}{line3}{padding}')\n",
    "\n",
    "line4=line4.strip()\n",
    "gap=max_char-len(line4)\n",
    "padding=align*int(gap/2)\n",
    "print(f'{padding}{line4}{padding}')\n",
    "\n",
    "line5=line1.strip()\n",
    "gap=max_char-len(line5)\n",
    "padding=align*int(gap/2)\n",
    "print(f'{padding}{line5}{padding}')"
   ]
  },
  {
   "cell_type": "markdown",
   "metadata": {},
   "source": [
    "5. Write a function to calculate the miles per gallon.\n",
    "Get a miles driven and gallons used from a user and call your function to calculate the miles per gallon. "
   ]
  },
  {
   "cell_type": "code",
   "execution_count": 32,
   "metadata": {},
   "outputs": [],
   "source": [
    "def gas_consumption(miles,gallons):\n",
    "    mpg=miles/gallons\n",
    "    mpg=round(mpg,2)\n",
    "    return mpg\n",
    "    "
   ]
  },
  {
   "cell_type": "code",
   "execution_count": 35,
   "metadata": {},
   "outputs": [
    {
     "name": "stdout",
     "output_type": "stream",
     "text": [
      "Enter the miles driiven: 25\n",
      "Enter the gallons used: 1\n",
      "\n",
      "Miles per gallons\t\t25.0\n"
     ]
    }
   ],
   "source": [
    "distance_in_miles=float(input(\"Enter the miles driiven: \"))\n",
    "gas_used=float(input(\"Enter the gallons used: \"))\n",
    "mpg=gas_consumption(distance_in_miles,gas_used)\n",
    "    \n",
    "print(f'\\nMiles per gallons\\t\\t{mpg}')"
   ]
  },
  {
   "cell_type": "code",
   "execution_count": null,
   "metadata": {},
   "outputs": [],
   "source": []
  }
 ],
 "metadata": {
  "kernelspec": {
   "display_name": "Python 3",
   "language": "python",
   "name": "python3"
  },
  "language_info": {
   "codemirror_mode": {
    "name": "ipython",
    "version": 3
   },
   "file_extension": ".py",
   "mimetype": "text/x-python",
   "name": "python",
   "nbconvert_exporter": "python",
   "pygments_lexer": "ipython3",
   "version": "3.8.8"
  }
 },
 "nbformat": 4,
 "nbformat_minor": 4
}
