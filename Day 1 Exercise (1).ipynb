{
 "cells": [
  {
   "cell_type": "markdown",
   "metadata": {},
   "source": [
    "## Questions"
   ]
  },
  {
   "cell_type": "markdown",
   "metadata": {},
   "source": [
    "1. Decode this secrete message:\n",
    "01001100 01101111 01100111 01101001 01100011"
   ]
  },
  {
   "cell_type": "markdown",
   "metadata": {},
   "source": [
    "140 207 199 201 195"
   ]
  },
  {
   "cell_type": "markdown",
   "metadata": {},
   "source": [
    "2. Identify and explain stages of Programming."
   ]
  },
  {
   "cell_type": "markdown",
   "metadata": {},
   "source": [
    "1. Analyze that has Identify, Divide and Re-group\n",
    "2. Plan   which has IPO and Algorithm\n",
    "3. Code meaning Programming Language\n",
    "4. Test includes Unit Test, System Test and Integration Test.\n",
    "5. Maintenance consists of Bug Fix, Enhancement and Document.\n"
   ]
  },
  {
   "cell_type": "markdown",
   "metadata": {},
   "source": [
    "3. Explain why do we use Selection? What kind of Statements or code do we use with that?"
   ]
  },
  {
   "cell_type": "markdown",
   "metadata": {},
   "source": [
    "Selection helps the code to run smooth and identify the goal of our code. We usually use if statements like Boolean statements.  "
   ]
  },
  {
   "cell_type": "markdown",
   "metadata": {},
   "source": [
    "4. Explain why do we use Sequence? Why is this part integral?"
   ]
  },
  {
   "cell_type": "markdown",
   "metadata": {},
   "source": [
    "To run the code fast and make our selection not miss the output and make the process easy and fast. Integral helps the process sorted easily to find output easily. Integral helps the process sorted easily to find output easily."
   ]
  },
  {
   "cell_type": "markdown",
   "metadata": {},
   "source": [
    "5. Explain why do we use Repetition? What kind of statements or code do we use with that?"
   ]
  },
  {
   "cell_type": "markdown",
   "metadata": {},
   "source": [
    "To find all the output written on the selection code and we use code that cancelled out all the section out put that fulfilled on the conditional statements. Also to run the code fast and make our selection not miss the output and make the process easy and fast. "
   ]
  },
  {
   "cell_type": "markdown",
   "metadata": {},
   "source": [
    "6. Knowing all this, explain why do we use the Structured Program Theorom and why do you need to know it?"
   ]
  },
  {
   "cell_type": "markdown",
   "metadata": {},
   "source": [
    "We have to use structured program in order to find the solutions for each detailed problems in our code and understanding the concept will help to identify the problems where it located and also hep us to understand how computer works or handle and interpret the code we write. "
   ]
  }
 ],
 "metadata": {
  "kernelspec": {
   "display_name": "Python 3",
   "language": "python",
   "name": "python3"
  },
  "language_info": {
   "codemirror_mode": {
    "name": "ipython",
    "version": 3
   },
   "file_extension": ".py",
   "mimetype": "text/x-python",
   "name": "python",
   "nbconvert_exporter": "python",
   "pygments_lexer": "ipython3",
   "version": "3.8.8"
  }
 },
 "nbformat": 4,
 "nbformat_minor": 4
}
