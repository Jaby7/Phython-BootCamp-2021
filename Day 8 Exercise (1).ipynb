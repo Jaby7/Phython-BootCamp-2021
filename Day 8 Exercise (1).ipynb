{
 "cells": [
  {
   "cell_type": "markdown",
   "metadata": {},
   "source": [
    "### Exercise 1. \n",
    "Create a dictionary named pairs with key value pairs of:\n",
    "    - 'hello' and 'fire', \n",
    "    - 3 and 'seven', \n",
    "    - 'strong' and 45. \n",
    "\n",
    "Then, print out the dictionary."
   ]
  },
  {
   "cell_type": "code",
   "execution_count": 4,
   "metadata": {},
   "outputs": [
    {
     "name": "stdout",
     "output_type": "stream",
     "text": [
      "{'hello': 'fire', '3': 'seven', 'strong': '45'}\n"
     ]
    }
   ],
   "source": [
    "pairs={}\n",
    "pairs['hello']='fire'\n",
    "pairs['3']='seven'\n",
    "pairs['strong']='45'\n",
    "print(pairs)"
   ]
  },
  {
   "cell_type": "markdown",
   "metadata": {},
   "source": [
    "### Exercise 2. \n",
    "Add 'welcome' and 56 pair into <b><i>pairs</i></b> dictionary from exercise 1. Then, print out the dictionary. "
   ]
  },
  {
   "cell_type": "code",
   "execution_count": 12,
   "metadata": {},
   "outputs": [
    {
     "name": "stdout",
     "output_type": "stream",
     "text": [
      "{'hello': 'fire', '3': 'seven', 'strong': '45', 'welcome': 56}\n"
     ]
    }
   ],
   "source": [
    "pairs['welcome']=56\n",
    "print(pairs)\n"
   ]
  },
  {
   "cell_type": "markdown",
   "metadata": {},
   "source": [
    "### Exercise 3. \n",
    "Delete one item from <b><i>pairs</i></b> dictionary. Then, print deleted item and the dictionary."
   ]
  },
  {
   "cell_type": "code",
   "execution_count": 13,
   "metadata": {},
   "outputs": [
    {
     "name": "stdout",
     "output_type": "stream",
     "text": [
      "{'hello': 'fire', '3': 'seven', 'welcome': 56}\n"
     ]
    }
   ],
   "source": [
    "pairs.pop('strong')\n",
    "print(pairs)"
   ]
  },
  {
   "cell_type": "markdown",
   "metadata": {},
   "source": [
    "### Exercise 4. \n",
    "Print the value of an item where key is 3 in <b><i>pairs</i></b> dicitonary"
   ]
  },
  {
   "cell_type": "code",
   "execution_count": 14,
   "metadata": {},
   "outputs": [
    {
     "name": "stdout",
     "output_type": "stream",
     "text": [
      "seven\n"
     ]
    }
   ],
   "source": [
    "print(pairs['3'])"
   ]
  },
  {
   "cell_type": "markdown",
   "metadata": {},
   "source": [
    "### Exercise 5. \n",
    "Try to find out if the key called 'hello' exist in <b><i>pairs</i></b> dictionary. Print 'key is found' message if the key exists otherwise print 'key is not there'."
   ]
  },
  {
   "cell_type": "code",
   "execution_count": 15,
   "metadata": {},
   "outputs": [
    {
     "name": "stdout",
     "output_type": "stream",
     "text": [
      "key is found\n"
     ]
    }
   ],
   "source": [
    "if 'hello' in pairs:\n",
    "    print('key is found')\n",
    "else: \n",
    "    print('key is not there')\n"
   ]
  },
  {
   "cell_type": "markdown",
   "metadata": {},
   "source": [
    "### Exercise 6. \n",
    "Create a Test Scores program that gets the name of students and test score from a user. Then, generate a list of students who passed and a list of students who failed where passing test score is 60 or above. "
   ]
  },
  {
   "cell_type": "code",
   "execution_count": 39,
   "metadata": {},
   "outputs": [
    {
     "name": "stdout",
     "output_type": "stream",
     "text": [
      "Name of Student: Abebe\n",
      "Score: 85\n",
      "['Abebe'] 85\n"
     ]
    }
   ],
   "source": [
    "#Test Score Program \n",
    "name= input(\"Name of Student: \")\n",
    "score=int(input(\"Score: \"))\n",
    "passed_students=[]\n",
    "failed_students=[]\n",
    "\n",
    "if score > 60:\n",
    "    passed_students.append(name)\n",
    "    print(passed_students, score)\n",
    "else:\n",
    "    failed_students.insert(1,name)\n",
    "    print(failed_students, score)"
   ]
  },
  {
   "cell_type": "code",
   "execution_count": 40,
   "metadata": {},
   "outputs": [
    {
     "name": "stdout",
     "output_type": "stream",
     "text": [
      "Name of Student: Baby\n",
      "Score: 35\n",
      "['Baby'] 35\n"
     ]
    }
   ],
   "source": [
    "#Test Score Program \n",
    "name= input(\"Name of Student: \")\n",
    "score=int(input(\"Score: \"))\n",
    "passed_students=[]\n",
    "failed_students=[]\n",
    "\n",
    "if score > 60:\n",
    "    passed_students.append(name)\n",
    "    print(passed_students, score)\n",
    "else:\n",
    "    failed_students.insert(1,name)\n",
    "    print(failed_students, score)\n"
   ]
  },
  {
   "cell_type": "markdown",
   "metadata": {},
   "source": [
    "### Exercise 7. \n",
    "\n",
    "Create a Word Counter program that gets a string of text from a user and then counts the number of times a word occrs in the string. \n",
    "\n",
    "The output should look something like this:\n",
    "\n",
    "    The Word Counter Program\n",
    "    \n",
    "    Enter a text string: \n",
    "    Humpty Dumpty sat on a wall, Humpty Dumpty had a great fall. All the king’s horses and all the king’s men couldn’t put Humpty together again.\n",
    "\n",
    "    a : 2\n",
    "    again : 1\n",
    "    all : 2\n",
    "    and : 1\n",
    "    couldn’t : 1\n",
    "    dumpty : 2\n",
    "    fall : 1\n",
    "    great : 1\n",
    "    had : 1\n",
    "    horses : 1\n",
    "    humpty : 3\n",
    "    king’s : 2\n",
    "    men : 1\n",
    "    on : 1\n",
    "    put : 1\n",
    "    sat : 1\n",
    "    the : 2\n",
    "    together : 1\n",
    "    wall : 1\n",
    "\n",
    "    There were total 26 words in the text string   "
   ]
  },
  {
   "cell_type": "code",
   "execution_count": 46,
   "metadata": {},
   "outputs": [
    {
     "name": "stdout",
     "output_type": "stream",
     "text": [
      "Enter a text String :And what do you benefit if you gain the whole world but lose your own soul? Is anything worth more than your soul?\n"
     ]
    }
   ],
   "source": [
    "#The word counter program\n",
    "word_counter=input('Enter a text String :')\n"
   ]
  },
  {
   "cell_type": "code",
   "execution_count": 47,
   "metadata": {},
   "outputs": [
    {
     "name": "stdout",
     "output_type": "stream",
     "text": [
      "The list of words are:['And', 'what', 'do', 'you', 'benefit', 'if', 'you', 'gain', 'the', 'whole', 'world', 'but', 'lose', 'your', 'own', 'soul', 'Is', 'anything', 'worth', 'more', 'than', 'your', 'soul']\n"
     ]
    }
   ],
   "source": [
    "import re\n",
    "words = re.findall(r'\\w+', word_counter)\n",
    "print('The list of words are:'+ str(words))"
   ]
  },
  {
   "cell_type": "code",
   "execution_count": 109,
   "metadata": {},
   "outputs": [
    {
     "name": "stdout",
     "output_type": "stream",
     "text": [
      "words= ['And', 'what', 'do', 'you', 'benefit', 'if', 'you', 'gain', 'the', 'whole', 'world', 'but', 'lose', 'your', 'own', 'soul', 'Is', 'anything', 'worth', 'more', 'than', 'your', 'soul'] \n",
      " Their counts = [1, 1, 1, 2, 1, 1, 2, 1, 1, 1, 1, 1, 1, 2, 1, 2, 1, 1, 1, 1, 1, 2, 2]\n"
     ]
    }
   ],
   "source": [
    "x=[]\n",
    "y=[]\n",
    "for i in range (len(words)):\n",
    "    lists=str(words[i])\n",
    "    x.append(lists)\n",
    "for word in words: \n",
    "    count= words.count(word)\n",
    "    y.append(count)\n",
    "print(f'words= {x} \\n Their counts = {y}')\n",
    " "
   ]
  },
  {
   "cell_type": "code",
   "execution_count": 110,
   "metadata": {},
   "outputs": [
    {
     "name": "stdout",
     "output_type": "stream",
     "text": [
      "['And', 'what', 'do', 'you', 'benefit', 'if', 'you', 'gain', 'the', 'whole', 'world', 'but', 'lose', 'your', 'own', 'soul', 'Is', 'anything', 'worth', 'more', 'than', 'your', 'soul']:[1, 1, 1, 2, 1, 1, 2, 1, 1, 1, 1, 1, 1, 2, 1, 2, 1, 1, 1, 1, 1, 2, 2]\n"
     ]
    }
   ],
   "source": [
    "print(f'{x}:{y}')\n"
   ]
  },
  {
   "cell_type": "code",
   "execution_count": null,
   "metadata": {},
   "outputs": [],
   "source": []
  }
 ],
 "metadata": {
  "kernelspec": {
   "display_name": "Python 3",
   "language": "python",
   "name": "python3"
  },
  "language_info": {
   "codemirror_mode": {
    "name": "ipython",
    "version": 3
   },
   "file_extension": ".py",
   "mimetype": "text/x-python",
   "name": "python",
   "nbconvert_exporter": "python",
   "pygments_lexer": "ipython3",
   "version": "3.8.8"
  }
 },
 "nbformat": 4,
 "nbformat_minor": 4
}
