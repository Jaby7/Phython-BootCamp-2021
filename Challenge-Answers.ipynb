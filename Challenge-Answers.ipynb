{
 "cells": [
  {
   "cell_type": "markdown",
   "metadata": {},
   "source": [
    "## Challenge 1: Rock, Paper, Scissors\n",
    "\n",
    "Create a program where the user can play a game of rock, paper, scissors against a computer. Set a play choice (rock, paper, or scissors) for the computer player and during the program, request for the user to input their play choice.\n",
    "\n",
    "The rules in Rock, Paper, Scissors are:\n",
    "\n",
    "    Rock beats scissors\n",
    "    Scissors beats paper\n",
    "    Paper beats rock\n",
    "\n",
    "If the user wins, then display \"You win!\" If they lose against the computer, then display \"You lose.\" If the computer and the user have the same play choice, display \"It's a draw.\"\n",
    "\n",
    "BONUS: Randomize the play choice for the computer (hint: Python has a library called random). Also ask the user if they would like to play again. If they do, start the game again but if not, thank the user for playing the game."
   ]
  },
  {
   "cell_type": "code",
   "execution_count": null,
   "metadata": {},
   "outputs": [],
   "source": [
    "import random as rand\n",
    " \n",
    "print(\"Welcome to Rock, Paper, Scissors\")\n",
    "choices = [\"Rock\", \"Paper\", \"Scissors\"]\n",
    "loop_answer = \"y\"\n",
    "\n",
    "while loop_answer == \"y\":\n",
    "    user_answer = input(\"Please input your answer here: \")\n",
    "    comp_answer = choices[rand.randint(0,2)]\n",
    "    \n",
    "    #.lower is all lowercase  .upper for all uppercase letter .title for titles and capitalizes the first letter\n",
    "    if comp_answer.lower() == user_answer.lower():\n",
    "        print(\"It's a draw!\")\n",
    "    elif comp_answer.lower() == \"rock\" and user_answer.lower() == \"paper\":\n",
    "        print(\"You win! Good job!\")\n",
    "    elif comp_answer.lower() == \"rock\" and user_answer.lower() == \"scissors\":\n",
    "        print(\"You lost. Sorry.\")\n",
    "    elif comp_answer.lower() == \"paper\" and user_answer.lower() == \"scissors\":\n",
    "        print(\"You win! Good job!\")\n",
    "    elif comp_answer.lower() == \"paper\" and user_answer.lower() == \"rock\":\n",
    "        print(\"You lost. Sorry.\")\n",
    "    elif comp_answer.lower() == \"scissors\" and user_answer.lower() == \"rock\":\n",
    "        print(\"You win! Good job!\")\n",
    "    elif comp_answer.lower() == \"scissors\" and user_answer.lower() == \"paper\":\n",
    "        print(\"You lost. Sorry.\")\n",
    "    else:\n",
    "        print(\"Sorry you did not enter in a correct answer. Please try again.\")\n",
    "    \n",
    "    loop_answer = input(\"Do you want to keep playing? (y/n)\")\n",
    "\n",
    "print(\"Thank you playing!\")    "
   ]
  }
 ],
 "metadata": {
  "kernelspec": {
   "display_name": "Python 3",
   "language": "python",
   "name": "python3"
  },
  "language_info": {
   "codemirror_mode": {
    "name": "ipython",
    "version": 3
   },
   "file_extension": ".py",
   "mimetype": "text/x-python",
   "name": "python",
   "nbconvert_exporter": "python",
   "pygments_lexer": "ipython3",
   "version": "3.7.6"
  }
 },
 "nbformat": 4,
 "nbformat_minor": 4
}
