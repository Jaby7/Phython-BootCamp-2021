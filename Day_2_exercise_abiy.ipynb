{
 "cells": [
  {
   "cell_type": "markdown",
   "metadata": {},
   "source": [
    "## Exercises\n",
    "### Write the pseudocode for these problems. \n",
    "\n",
    "#### Define the problem by constructing an IPO diagram showing input, output, and processing steps\n",
    "Ask yourself\n",
    "- What control structures (sequence, selection and repetition) are required?\n",
    "- What variables are required?\n",
    "\n",
    "Show a check of your solution with **test data** for at least **two valid test cases**\n",
    "If you use the numbers provided in the example then the correct pseudocode will calculate the same result.\n",
    "    "
   ]
  },
  {
   "cell_type": "markdown",
   "metadata": {},
   "source": [
    "#### 1. Find the average score\n",
    "A program is needed to prompt the user operator for exam scores, calculate the average score and display the result to the screen. The average score is calculated as the sum of the scores divided by the number of scores."
   ]
  },
  {
   "cell_type": "markdown",
   "metadata": {},
   "source": [
    "Begin\n",
    "Score1, Score2, and Score3 as integers\n",
    "Prompt Average \n",
    "Write \"Welcome to the program. Enter 3 positive numbers\",\n",
    "Average = (Score1 + Score2 + Score3) / 3\n",
    "Write \"The average of three numbers entered is\", Average\n",
    "END\n",
    "\n",
    "Example \n",
    "25,35,45\n",
    "Average = (25+35+45)\n",
    "= 35"
   ]
  },
  {
   "cell_type": "markdown",
   "metadata": {},
   "source": [
    "#### 2. How much water runs off a roof in a rain storm?\n",
    "To calculate the runoff from any given rainfall: Take the dimensions of the footprint of the roof and convert them to inches. (So, a 50' x 20' roof is 600\" x 240\"). Multiply the roof dimensions by the number of inches of rainfall. As an example, 600\" x 240\" x 1\" = 144,000 cubic inches of water for an inch of rainfall. Divide that result by 231 to get the number of gallons (because 1 gallon = 231 cubic inches). (144,000/231 = 623.38)."
   ]
  },
  {
   "cell_type": "markdown",
   "metadata": {},
   "source": [
    "Begin \n",
    "Conver the dimension of the footprit of the roof into inchies\n",
    "Multipy the roof dimensions by the number of rainfall\n",
    "DIvide the result by 231 to get gallons of rainwater. \n",
    "END\n",
    "\n",
    "Examplel \n",
    "50'x12 x 20'x12 = 600\" x 240\"\n",
    "600\" x 240\" x 1\" = 144,000 cubic inches of water\n",
    "144,000/231 = 623.38 gallons of rainwater"
   ]
  },
  {
   "cell_type": "markdown",
   "metadata": {},
   "source": [
    "#### 3. Process customer record\n",
    "A program is required to read a customer’s name, a purchase amount and a tax code. The tax code has been validated and will be one of the following: 0 tax exempt (0%) 1 state sales tax only (3%) 2 federal and state sales tax (5%) 3 special sales tax (7%) The program must then compute the sales tax and the total amount due,and print the customer’s name, purchase amount, sales tax and total amount due."
   ]
  },
  {
   "cell_type": "markdown",
   "metadata": {},
   "source": [
    "Begin\n",
    "Get customer’s name\n",
    "Get Purchase amount\n",
    "Get A tax code\n",
    "Calculate the tax amount based on the tax code # 0 % / 3 % / 5% / 7 % \n",
    "AS Tax ammount = Purchase amount * Tax code ( x % /100)\n",
    "Calculate Total Amount Due = Tax amount + Purchase amount\n",
    "Display customer’s name, purchase amount, sales tax and total amount due\n",
    "END \n",
    "\n",
    "Example:  \n",
    "Name: Jack \n",
    "Purchase amount: $150 \n",
    "Tax code = State Tax only (3%)\n",
    "Tax ammount =  $ 150* (3/100) \n",
    "=  $ 4.5 \n",
    "Total Amount Due = $ 150 + $ 4.5 \n",
    "= $ 154.5  \n",
    "Display : Jack, $ 150, $4.5 , $ 154.5 \n"
   ]
  },
  {
   "cell_type": "markdown",
   "metadata": {},
   "source": [
    "#### 4. Calculate employee's pay \n",
    "A program is required by a company to read an employee’s number, pay rate and the number of hours worked in a week. The program is then to validate the pay rate field and the hours worked field and, if valid, compute the employee’s weekly pay and then print it and the input data.\n",
    "\n",
    "Validation: According to the company’s rules, the maximum hours an employee can work per week is 60 hours, and the maximum hourly rate is $25.00 per hour. If the hours worked field or the hourly rate field is out of range, the input data and an appropriate message are to be printed and the employee’s weekly pay is not to be calculated.\n",
    "\n",
    "Weekly pay calculation: Weekly pay is calculated as hours worked times pay rate. If more than 35 hours are worked, payment for the overtime hours worked is calculated at time-and-a-half."
   ]
  },
  {
   "cell_type": "markdown",
   "metadata": {},
   "source": [
    "Begin \n",
    "Get Employee’s number \n",
    "Get Number of hours worked in a week\n",
    "If Number of hours worked in a week is less than 35 hrs clacluate Weekly pay as \n",
    "Weekly pay = pay rate *  Number of hours worked  \n",
    "If Number of hours worked in a week is greater than 35 hrs and less than 60 hrs clacluate Weekly pay as \n",
    "Weekly pay = pay rate *  Number of hours worked * 1.5 \n",
    "IF Number of hours worked in a week is greater than 60 hrs \n",
    "Print a message \" The employee with the Employee’s number worked from Day 'x' to Day 'y' more than 60 hours (\"exact hrs worked\") and the employee’s weekly pay is not calculated.\")\n",
    "END\n",
    "\n",
    "Example:\n",
    "Employee’s number = 0001\n",
    "Number of hours worked in a week (day 'x'to day 'y') = 40  hrs\n",
    "Total Weekly pay = ($ 25  *  35 hrs) + ($ 25 * 5 hrs extra * 1.5 ) \n",
    "=  $ 1048.50 \n",
    "\n",
    "\n",
    "\n",
    "\n"
   ]
  }
 ],
 "metadata": {
  "kernelspec": {
   "display_name": "Python 3",
   "language": "python",
   "name": "python3"
  },
  "language_info": {
   "codemirror_mode": {
    "name": "ipython",
    "version": 3
   },
   "file_extension": ".py",
   "mimetype": "text/x-python",
   "name": "python",
   "nbconvert_exporter": "python",
   "pygments_lexer": "ipython3",
   "version": "3.8.8"
  }
 },
 "nbformat": 4,
 "nbformat_minor": 2
}
